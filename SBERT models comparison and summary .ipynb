{
 "cells": [
  {
   "cell_type": "markdown",
   "id": "feba1184",
   "metadata": {},
   "source": [
    "# <center> Comparing different SBERT models"
   ]
  },
  {
   "cell_type": "markdown",
   "id": "dd67eee1",
   "metadata": {},
   "source": [
    "### SBERT converts sentences into fixed-dimensional vectors. Sevreal tasks like similarity of sentences, clustering, and classification tasks can be done."
   ]
  },
  {
   "cell_type": "code",
   "execution_count": 1,
   "id": "7325fac5",
   "metadata": {},
   "outputs": [
    {
     "name": "stderr",
     "output_type": "stream",
     "text": [
      "C:\\Users\\Deepak\\miniconda3\\envs\\NNExperiments\\lib\\site-packages\\tqdm\\auto.py:21: TqdmWarning: IProgress not found. Please update jupyter and ipywidgets. See https://ipywidgets.readthedocs.io/en/stable/user_install.html\n",
      "  from .autonotebook import tqdm as notebook_tqdm\n"
     ]
    }
   ],
   "source": [
    "from sentence_transformers import SentenceTransformer,util\n",
    "import torch\n",
    "import pandas as pd\n",
    "#import dataframe_image as dfi\n",
    "from matplotlib import pyplot as plt\n",
    "import seaborn as sns\n",
    "%matplotlib inline\n",
    "\n",
    "model1 = SentenceTransformer('sentence-transformers/paraphrase-multilingual-mpnet-base-v2')\n",
    "model2 = SentenceTransformer('sentence-transformers/paraphrase-multilingual-MiniLM-L12-v2')\n",
    "model3 = SentenceTransformer('sentence-transformers/distiluse-base-multilingual-cased-v2')"
   ]
  },
  {
   "cell_type": "code",
   "execution_count": 2,
   "id": "dfcb2897",
   "metadata": {},
   "outputs": [
    {
     "name": "stdout",
     "output_type": "stream",
     "text": [
      "tensor([[0.2586, 0.4137, 0.1028],\n",
      "        [0.1864, 0.3825, 0.0818],\n",
      "        [0.1035, 0.0752, 0.0221]]) tensor([[ 0.2319,  0.3928,  0.0673],\n",
      "        [ 0.1688,  0.3756,  0.0639],\n",
      "        [-0.0496, -0.0484, -0.0347]]) tensor([[0.5717, 0.6732, 0.3612],\n",
      "        [0.4373, 0.5479, 0.3622],\n",
      "        [0.0906, 0.1030, 0.0082]])\n"
     ]
    }
   ],
   "source": [
    "Corpus = ['He is playing a guitar','A man is playing guitar','The new movie is awesome']\n",
    "Premise = ['She is playing violin','He is playing violin','Dog is playing in ground']\n",
    "\n",
    "#Model1: \n",
    "Corpus_model1 = model1.encode(Corpus, convert_to_tensor=True)\n",
    "Premise_model1 = model1.encode(Premise, convert_to_tensor=True)\n",
    "\n",
    "#Compute cosine-similarities in nmatrix format\n",
    "cosine_scores_model1 = util.cos_sim(Corpus_model1, Premise_model1)\n",
    "\n",
    "#Model2\n",
    "Corpus_model2 = model2.encode(Corpus, convert_to_tensor=True)\n",
    "Premise_model2 = model2.encode(Premise, convert_to_tensor=True)\n",
    "\n",
    "#Compute cosine-similarities in nmatrix format\n",
    "cosine_scores_model2 = util.cos_sim(Corpus_model2, Premise_model2)\n",
    "\n",
    "#Model3\n",
    "Corpus_model3 = model3.encode(Corpus, convert_to_tensor=True)\n",
    "Premise_model3 = model3.encode(Premise, convert_to_tensor=True)\n",
    "\n",
    "#Compute cosine-similarities in nmatrix format\n",
    "cosine_scores_model3 = util.cos_sim(Corpus_model3, Premise_model3)\n",
    "\n",
    "print(cosine_scores_model1, cosine_scores_model2, cosine_scores_model3)"
   ]
  },
  {
   "cell_type": "code",
   "execution_count": 3,
   "id": "3b37e598",
   "metadata": {},
   "outputs": [
    {
     "data": {
      "text/plain": [
       "torch.Tensor"
      ]
     },
     "execution_count": 3,
     "metadata": {},
     "output_type": "execute_result"
    }
   ],
   "source": [
    "type(cosine_scores_model1)"
   ]
  },
  {
   "cell_type": "code",
   "execution_count": 4,
   "id": "00e40f0c",
   "metadata": {},
   "outputs": [
    {
     "name": "stdout",
     "output_type": "stream",
     "text": [
      "tensor([[0.2586, 0.1864, 0.1035],\n",
      "        [0.4137, 0.3825, 0.0752],\n",
      "        [0.1028, 0.0818, 0.0221]]) tensor([[ 0.2319,  0.1688, -0.0496],\n",
      "        [ 0.3928,  0.3756, -0.0484],\n",
      "        [ 0.0673,  0.0639, -0.0347]]) tensor([[0.5717, 0.4373, 0.0906],\n",
      "        [0.6732, 0.5479, 0.1030],\n",
      "        [0.3612, 0.3622, 0.0082]])\n"
     ]
    }
   ],
   "source": [
    "# Transpose check by flipping Corpus and Premise\n",
    "Corpus = ['She is playing violin','He is playing violin','Dog is playing in ground']\n",
    "Premise = ['He is playing a guitar','A man is playing guitar','The new movie is awesome']\n",
    "\n",
    "#Model1 \n",
    "Corpus_model1 = model1.encode(Corpus, convert_to_tensor=True)\n",
    "Premise_model1 = model1.encode(Premise, convert_to_tensor=True)\n",
    "#Compute cosine-similarities in nmatrix format\n",
    "cosine_scores_model1 = util.cos_sim(Corpus_model1, Premise_model1)\n",
    "\n",
    "#Model2\n",
    "Corpus_model2 = model2.encode(Corpus, convert_to_tensor=True)\n",
    "Premise_model2 = model2.encode(Premise, convert_to_tensor=True)\n",
    "#Compute cosine-similarities in nmatrix format\n",
    "cosine_scores_model2 = util.cos_sim(Corpus_model2, Premise_model2)\n",
    "\n",
    "#Model3\n",
    "Corpus_model3 = model3.encode(Corpus, convert_to_tensor=True)\n",
    "Premise_model3 = model3.encode(Premise, convert_to_tensor=True)\n",
    "#Compute cosine-similarities in nmatrix format\n",
    "cosine_scores_model3 = util.cos_sim(Corpus_model3, Premise_model3)\n",
    "\n",
    "print(cosine_scores_model1, cosine_scores_model2, cosine_scores_model3)"
   ]
  },
  {
   "cell_type": "code",
   "execution_count": 5,
   "id": "1b3d5975",
   "metadata": {},
   "outputs": [
    {
     "name": "stdout",
     "output_type": "stream",
     "text": [
      "sentence-transformers/paraphrase-multilingual-mpnet-base-v2: 2 3 768\n",
      "sentence-transformers/paraphrase-multilingual-MiniLM-L12-v2: 2 3 384\n",
      "sentence-transformers/distiluse-base-multilingual-cased-v2: 2 3 512\n"
     ]
    }
   ],
   "source": [
    "# Let us check dimensions of the models, that is the fixed lengths of the sentence embeddings. \n",
    "print(\"sentence-transformers/paraphrase-multilingual-mpnet-base-v2:\",Corpus_model1.ndim, Corpus_model1.shape[0],Corpus_model1.shape[1])\n",
    "print(\"sentence-transformers/paraphrase-multilingual-MiniLM-L12-v2:\",Corpus_model2.ndim, Corpus_model2.shape[0],Corpus_model2.shape[1])\n",
    "print(\"sentence-transformers/distiluse-base-multilingual-cased-v2:\",Corpus_model3.ndim, Corpus_model3.shape[0],Corpus_model3.shape[1])\n"
   ]
  },
  {
   "cell_type": "code",
   "execution_count": 6,
   "id": "5680514f",
   "metadata": {},
   "outputs": [],
   "source": [
    "# Model 1 has maximum entities along the second axis or sequence length. "
   ]
  },
  {
   "cell_type": "markdown",
   "id": "b0c2db68",
   "metadata": {},
   "source": [
    "# <center> Cross-lingual analysis"
   ]
  },
  {
   "cell_type": "code",
   "execution_count": 7,
   "id": "4809c37e",
   "metadata": {},
   "outputs": [],
   "source": [
    "from sentence_transformers import SentenceTransformer,util\n",
    "model = SentenceTransformer('sentence-transformers/paraphrase-multilingual-mpnet-base-v2')"
   ]
  },
  {
   "cell_type": "code",
   "execution_count": 8,
   "id": "add8e796",
   "metadata": {},
   "outputs": [],
   "source": [
    "# Create a corpus and premises for other languages.\n",
    "Corpus = ['He is playing a guitar','A man is playing guitar','The new movie is awesome']\n",
    "\n",
    "#Premises in different languages\n",
    "Premise_en = ['She is playing violin','He is playing violin','Dog is playing in ground']\n",
    "Premise_ar = [\"إنها تعزف على الكمان\" ,\"إنه يعزف على الكمان\",\"كلب يلعب في الأرض\"]\n",
    "Premise_ru = ['Она играет на скрипке','Он играет на скрипке','Собака играет в земле']\n",
    "Premise_uk = ['Вона грає на скрипці','Він грає на скрипці','Собака грається в землі']\n",
    "Premise_zh = ['她在拉小提琴','他在拉小提琴','狗在地上玩耍']\n",
    "Premise_pl = ['Ona gra na skrzypcach','On gra na skrzypcach','Pies bawi się w ziemi']\n",
    "Premise_lv = [\"Viņa spēlē vijoli\", \"Viņš spēlē vijoli\", \"Suns spēlē zemē\"]\n",
    "Premise_et = [\"Ta mängib viiulit\", \"Ta mängib viiulit\", \"Koer mängib maas\"]\n",
    "Premise_lt = ['Ji griežia smuiku', 'Jis groja smuiku', 'Šuo groja žemėje']"
   ]
  },
  {
   "cell_type": "code",
   "execution_count": 9,
   "id": "0c5b5607",
   "metadata": {},
   "outputs": [],
   "source": [
    "# Convert into sentence embeddings or vectors\n",
    "embeddings_corpus = model.encode(Corpus, convert_to_tensor=True)\n",
    "embeddings_en = model.encode(Premise_en, convert_to_tensor=True)\n",
    "embeddings_ar = model.encode(Premise_ar, convert_to_tensor=True)\n",
    "embeddings_ru = model.encode(Premise_ru, convert_to_tensor=True)\n",
    "embeddings_uk = model.encode(Premise_uk, convert_to_tensor=True)\n",
    "embeddings_zh = model.encode(Premise_zh, convert_to_tensor=True)\n",
    "embeddings_pl = model.encode(Premise_pl, convert_to_tensor=True)\n",
    "embeddings_lv = model.encode(Premise_lv, convert_to_tensor=True)\n",
    "embeddings_et = model.encode(Premise_et, convert_to_tensor=True)\n",
    "embeddings_lt = model.encode(Premise_lt, convert_to_tensor=True)"
   ]
  },
  {
   "cell_type": "code",
   "execution_count": 10,
   "id": "6d7c1589",
   "metadata": {},
   "outputs": [
    {
     "name": "stdout",
     "output_type": "stream",
     "text": [
      "He is playing a guitar \t\t\t She is playing violin \t\t\t Score: 0.2586\n",
      "He is playing a guitar \t\t\t He is playing violin \t\t\t Score: 0.4137\n",
      "He is playing a guitar \t\t\t Dog is playing in ground \t\t\t Score: 0.1028\n",
      "A man is playing guitar \t\t\t She is playing violin \t\t\t Score: 0.1864\n",
      "A man is playing guitar \t\t\t He is playing violin \t\t\t Score: 0.3825\n",
      "A man is playing guitar \t\t\t Dog is playing in ground \t\t\t Score: 0.0818\n",
      "The new movie is awesome \t\t\t She is playing violin \t\t\t Score: 0.1035\n",
      "The new movie is awesome \t\t\t He is playing violin \t\t\t Score: 0.0752\n",
      "The new movie is awesome \t\t\t Dog is playing in ground \t\t\t Score: 0.0221\n"
     ]
    }
   ],
   "source": [
    "cosine_scores = util.cos_sim(embeddings_corpus, embeddings_en)\n",
    "for i in range(len(Corpus)):\n",
    "    for j in range(len(Premise_en)):\n",
    "        print(\"{} \\t\\t\\t {} \\t\\t\\t Score: {:.4f}\".format(Corpus[i], Premise_en[j], cosine_scores[i][j]))"
   ]
  },
  {
   "cell_type": "code",
   "execution_count": 11,
   "id": "04243c16",
   "metadata": {},
   "outputs": [
    {
     "name": "stdout",
     "output_type": "stream",
     "text": [
      "He is playing a guitar \t\t\t He is playing a guitar \t\t\t Score: 0.2586\n",
      "He is playing a guitar \t\t\t A man is playing guitar \t\t\t Score: 0.4137\n",
      "He is playing a guitar \t\t\t The new movie is awesome \t\t\t Score: 0.1028\n",
      "A man is playing guitar \t\t\t He is playing a guitar \t\t\t Score: 0.1864\n",
      "A man is playing guitar \t\t\t A man is playing guitar \t\t\t Score: 0.3825\n",
      "A man is playing guitar \t\t\t The new movie is awesome \t\t\t Score: 0.0818\n",
      "The new movie is awesome \t\t\t He is playing a guitar \t\t\t Score: 0.1035\n",
      "The new movie is awesome \t\t\t A man is playing guitar \t\t\t Score: 0.0752\n",
      "The new movie is awesome \t\t\t The new movie is awesome \t\t\t Score: 0.0221\n"
     ]
    }
   ],
   "source": [
    "#f-string method:\n",
    "for i in range(len(Corpus)):\n",
    "    for j in range(len(Premise)):\n",
    "        print(f\"{Corpus[i]} \\t\\t\\t {Premise[j]} \\t\\t\\t Score: {cosine_scores[i][j]:.4f}\")"
   ]
  },
  {
   "cell_type": "code",
   "execution_count": null,
   "id": "30910224",
   "metadata": {},
   "outputs": [],
   "source": [
    "cosine_scores"
   ]
  },
  {
   "cell_type": "code",
   "execution_count": null,
   "id": "2e6283fe",
   "metadata": {},
   "outputs": [],
   "source": [
    "cosine_scores = util.cos_sim(embeddings_corpus, embeddings_ar)\n",
    "for i in range(len(Corpus)):\n",
    "    for j in range(len(Premise_ar)):\n",
    "        print(\"{} \\t\\t\\t {} \\t\\t\\t Score: {:.4f}\".format(Corpus[i], Premise_ar[j], cosine_scores[i][j]))"
   ]
  },
  {
   "cell_type": "code",
   "execution_count": null,
   "id": "63062412",
   "metadata": {},
   "outputs": [],
   "source": [
    "cosine_scores"
   ]
  },
  {
   "cell_type": "code",
   "execution_count": null,
   "id": "d7864e76",
   "metadata": {},
   "outputs": [],
   "source": [
    "cosine_scores = util.cos_sim(embeddings_corpus, embeddings_ru)\n",
    "for i in range(len(Corpus)):\n",
    "    for j in range(len(Premise_ru)):\n",
    "        print(\"{} \\t\\t\\t {} \\t\\t\\t Score: {:.4f}\".format(Corpus[i], Premise_ru[j], cosine_scores[i][j]))"
   ]
  },
  {
   "cell_type": "code",
   "execution_count": null,
   "id": "3f455e65",
   "metadata": {},
   "outputs": [],
   "source": [
    "cosine_scores"
   ]
  },
  {
   "cell_type": "code",
   "execution_count": null,
   "id": "d3180869",
   "metadata": {},
   "outputs": [],
   "source": [
    "cosine_scores = util.cos_sim(embeddings_corpus, embeddings_uk)\n",
    "for i in range(len(Corpus)):\n",
    "    for j in range(len(Premise_uk)):\n",
    "        print(\"{} \\t\\t\\t {} \\t\\t\\t Score: {:.4f}\".format(Corpus[i], Premise_uk[j], cosine_scores[i][j]))"
   ]
  },
  {
   "cell_type": "code",
   "execution_count": null,
   "id": "c1caf5ed",
   "metadata": {},
   "outputs": [],
   "source": [
    "cosine_scores"
   ]
  },
  {
   "cell_type": "code",
   "execution_count": null,
   "id": "2bc5eaf6",
   "metadata": {},
   "outputs": [],
   "source": [
    "cosine_scores = util.cos_sim(embeddings_corpus, embeddings_zh)\n",
    "for i in range(len(Corpus)):\n",
    "    for j in range(len(Premise_zh)):\n",
    "        print(\"{} \\t\\t\\t {} \\t\\t\\t Score: {:.4f}\".format(Corpus[i], Premise_zh[j], cosine_scores[i][j]))"
   ]
  },
  {
   "cell_type": "code",
   "execution_count": null,
   "id": "99edafce",
   "metadata": {},
   "outputs": [],
   "source": [
    "cosine_scores"
   ]
  },
  {
   "cell_type": "code",
   "execution_count": null,
   "id": "1bd6bccf",
   "metadata": {},
   "outputs": [],
   "source": [
    "cosine_scores = util.cos_sim(embeddings_corpus, embeddings_pl)\n",
    "for i in range(len(Corpus)):\n",
    "    for j in range(len(Premise_pl)):\n",
    "        print(\"{} \\t\\t\\t {} \\t\\t\\t Score: {:.4f}\".format(Corpus[i], Premise_pl[j], cosine_scores[i][j]))"
   ]
  },
  {
   "cell_type": "code",
   "execution_count": null,
   "id": "2db4e281",
   "metadata": {},
   "outputs": [],
   "source": [
    "cosine_scores"
   ]
  },
  {
   "cell_type": "code",
   "execution_count": null,
   "id": "5a4c1a3b",
   "metadata": {},
   "outputs": [],
   "source": [
    "cosine_scores = util.cos_sim(embeddings_corpus, embeddings_lv)\n",
    "for i in range(len(Corpus)):\n",
    "    for j in range(len(Premise_lv)):\n",
    "        print(\"{} \\t\\t\\t {} \\t\\t\\t Score: {:.4f}\".format(Corpus[i], Premise_lv[j], cosine_scores[i][j]))"
   ]
  },
  {
   "cell_type": "code",
   "execution_count": null,
   "id": "1c40ae56",
   "metadata": {},
   "outputs": [],
   "source": [
    "cosine_scores"
   ]
  },
  {
   "cell_type": "code",
   "execution_count": null,
   "id": "de893b96",
   "metadata": {},
   "outputs": [],
   "source": [
    "cosine_scores = util.cos_sim(embeddings_corpus, embeddings_et)\n",
    "for i in range(len(Corpus)):\n",
    "    for j in range(len(Premise_et)):\n",
    "        print(\"{} \\t\\t\\t {} \\t\\t\\t Score: {:.4f}\".format(Corpus[i], Premise_et[j], cosine_scores[i][j]))"
   ]
  },
  {
   "cell_type": "code",
   "execution_count": null,
   "id": "726ad7f5",
   "metadata": {},
   "outputs": [],
   "source": [
    "cosine_scores"
   ]
  },
  {
   "cell_type": "code",
   "execution_count": null,
   "id": "c5fbb051",
   "metadata": {},
   "outputs": [],
   "source": [
    "cosine_scores = util.cos_sim(embeddings_corpus, embeddings_lt)\n",
    "for i in range(len(Corpus)):\n",
    "    for j in range(len(Premise_lt)):\n",
    "        print(\"{} \\t\\t\\t {} \\t\\t\\t Score: {:.4f}\".format(Corpus[i], Premise_lt[j], cosine_scores[i][j]))"
   ]
  },
  {
   "cell_type": "code",
   "execution_count": null,
   "id": "f73093f2",
   "metadata": {},
   "outputs": [],
   "source": [
    "cosine_scores"
   ]
  },
  {
   "cell_type": "code",
   "execution_count": null,
   "id": "b85e87c8",
   "metadata": {},
   "outputs": [],
   "source": [
    "English = [0.2586,0.4137, 0.1028,0.1864, 0.3825, 0.0818,0.1035, 0.0752, 0.0221]\n",
    "Arabic = [0.3790, 0.5544, 0.0837,0.2741, 0.4937, 0.0554,0.1688, 0.1383, 0.0323]\n",
    "Russian = [0.2919, 0.4602, 0.1084,0.2120, 0.4221, 0.0710,0.1094, 0.0777, 0.0494]\n",
    "Ukrainian = [0.2999, 0.4587, 0.1052,0.2209, 0.4252, 0.0616,0.1212, 0.0849, 0.0770]\n",
    "Chinese = [0.2955, 0.4648, 0.0697,0.1999, 0.4136, 0.0292,0.1377, 0.1164, 0.0501]\n",
    "Polish = [0.2817, 0.4404, 0.0751,0.1990, 0.4025, 0.0431,0.1219, 0.0844, 0.0394]\n",
    "Latvian = [0.2693, 0.4335, 0.1006,0.1868, 0.3904, 0.0717,0.1156, 0.0880, 0.0129]\n",
    "Estonian = [0.4191, 0.4191, 0.0905,0.3539, 0.3539, 0.0586,0.0848, 0.0848, 0.0467]\n",
    "Lithuanian = [0.2998, 0.4903, 0.1772,0.2101, 0.4498, 0.1426,0.1284, 0.0855, 0.0667]"
   ]
  },
  {
   "cell_type": "code",
   "execution_count": null,
   "id": "eb4983d5",
   "metadata": {},
   "outputs": [],
   "source": [
    "df = pd.DataFrame(list(zip(English,Arabic,Russian,Ukrainian,Chinese,Polish,Latvian,Estonian,Lithuanian)),\n",
    "               columns =['English','Arabic','Russian','Ukrainian','Chinese','Polish','Latvian','Estonian','Lithuanian'])\n",
    "df"
   ]
  },
  {
   "cell_type": "code",
   "execution_count": null,
   "id": "78152062",
   "metadata": {},
   "outputs": [],
   "source": [
    "sns.heatmap(df, annot=True)"
   ]
  },
  {
   "cell_type": "code",
   "execution_count": null,
   "id": "ba2b44f8",
   "metadata": {},
   "outputs": [],
   "source": [
    "df.describe()"
   ]
  },
  {
   "cell_type": "code",
   "execution_count": null,
   "id": "abc4112b",
   "metadata": {},
   "outputs": [],
   "source": [
    "df.corr()"
   ]
  },
  {
   "cell_type": "code",
   "execution_count": null,
   "id": "4d1a4713",
   "metadata": {},
   "outputs": [],
   "source": []
  },
  {
   "cell_type": "code",
   "execution_count": null,
   "id": "d8c52811",
   "metadata": {},
   "outputs": [],
   "source": []
  }
 ],
 "metadata": {
  "kernelspec": {
   "display_name": "NNExperiments",
   "language": "python",
   "name": "nnexperiments"
  },
  "language_info": {
   "codemirror_mode": {
    "name": "ipython",
    "version": 3
   },
   "file_extension": ".py",
   "mimetype": "text/x-python",
   "name": "python",
   "nbconvert_exporter": "python",
   "pygments_lexer": "ipython3",
   "version": "3.9.16"
  }
 },
 "nbformat": 4,
 "nbformat_minor": 5
}
