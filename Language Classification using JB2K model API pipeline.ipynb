{
 "cells": [
  {
   "cell_type": "markdown",
   "id": "56e415fd",
   "metadata": {},
   "source": [
    "# The following program from https://huggingface.co/jb2k/bert-base-multilingual-cased-language-detection?text=I+like+you.+I+love+you classifies Arabic, Russian, Ukrainian, Mandarin (Simplified Chinese), Polish, Latvian, and Estonian and many more. "
   ]
  },
  {
   "cell_type": "code",
   "execution_count": 1,
   "id": "ac055379",
   "metadata": {},
   "outputs": [],
   "source": [
    "# Import required libraries\n",
    "from transformers import AutoModelForSequenceClassification, AutoTokenizer\n",
    "import torch"
   ]
  },
  {
   "cell_type": "code",
   "execution_count": 2,
   "id": "452be582",
   "metadata": {},
   "outputs": [
    {
     "data": {
      "text/plain": [
       "'\\nmodel_path = \"jb2k/bert-base-multilingual-cased-language-detection\"\\nmodel = AutoModelForSequenceClassification.from_pretrained(model_path)\\ntokenizer = AutoTokenizer.from_pretrained(model_path)\\n'"
      ]
     },
     "execution_count": 2,
     "metadata": {},
     "output_type": "execute_result"
    }
   ],
   "source": [
    "# From online, the model and tokenizer that were pretrained are used. \n",
    "'''\n",
    "model_path = \"jb2k/bert-base-multilingual-cased-language-detection\"\n",
    "model = AutoModelForSequenceClassification.from_pretrained(model_path)\n",
    "tokenizer = AutoTokenizer.from_pretrained(model_path)\n",
    "'''\n"
   ]
  },
  {
   "cell_type": "code",
   "execution_count": 3,
   "id": "1ba1bf99",
   "metadata": {},
   "outputs": [],
   "source": [
    "# Saved it in local directory\n",
    "\n",
    "pt_save_directory = \"C:/Users/Deepak/Desktop/Trained_Models/JB2K-Model\"\n"
   ]
  },
  {
   "cell_type": "code",
   "execution_count": 29,
   "id": "d2016e40",
   "metadata": {},
   "outputs": [
    {
     "name": "stderr",
     "output_type": "stream",
     "text": [
      "Found cached dataset common_language (C:/Users/Deepak/.cache/huggingface/datasets/common_language/full/0.1.0/b27a81451e46e5e822b34bc81f15dfc4b70a94c78749fd8663068a580339ea42)\n"
     ]
    },
    {
     "data": {
      "application/vnd.jupyter.widget-view+json": {
       "model_id": "1c825e9b95f044c0ba0cabed330ce434",
       "version_major": 2,
       "version_minor": 0
      },
      "text/plain": [
       "  0%|          | 0/3 [00:00<?, ?it/s]"
      ]
     },
     "metadata": {},
     "output_type": "display_data"
    }
   ],
   "source": [
    "# It is giving error.\n",
    "from datasets import load_dataset\n",
    "from transformers import AutoTokenizer\n",
    "\n",
    "# checkpoint used in preprocessing and modelling\n",
    "checkpoint = 'jb2k/bert-base-multilingual-cased-language-detection'\n",
    "\n",
    "# dataset used\n",
    "dataset_name = 'common_language' #'amazon_reviews_multi'\n",
    "dataset = load_dataset(dataset_name)\n",
    "\n",
    "# cache dirs\n",
    "# CACHE_DATASETS = './cache/datasets/'\n",
    "# CACHE_PRETRAINED = './cache/pretrained/'\n"
   ]
  },
  {
   "cell_type": "code",
   "execution_count": 5,
   "id": "092c6fbb",
   "metadata": {},
   "outputs": [
    {
     "data": {
      "text/plain": [
       "'\\ntokenizer.save_pretrained(\"C:/Users/Deepak/Desktop/Trained_Models/JB2K-Model\")\\nmodel.save_pretrained(\"C:/Users/Deepak/Desktop/Trained_Models/JB2K-Model\")\\n'"
      ]
     },
     "execution_count": 5,
     "metadata": {},
     "output_type": "execute_result"
    }
   ],
   "source": [
    "# Both the tokenizer and trained model are downloaded in local repo.\n",
    "\"\"\"\n",
    "tokenizer.save_pretrained(\"C:/Users/Deepak/Desktop/Trained_Models/JB2K-Model\")\n",
    "model.save_pretrained(\"C:/Users/Deepak/Desktop/Trained_Models/JB2K-Model\")\n",
    "\"\"\""
   ]
  },
  {
   "cell_type": "code",
   "execution_count": 6,
   "id": "2a5cf90c",
   "metadata": {},
   "outputs": [],
   "source": [
    "# A dictionary has been created with all languages that the model has been tried upon.\n",
    "language_dict = {0: 'Arabic',\n",
    " 1: 'Basque',\n",
    " 2: 'Breton',\n",
    " 3: 'Catalan',\n",
    " 4: 'Chinese_China',\n",
    " 5: 'Chinese_Hongkong',\n",
    " 6: 'Chinese_Taiwan',\n",
    " 7: 'Chuvash',\n",
    " 8: 'Czech',\n",
    " 9: 'Dhivehi',\n",
    " 10: 'Dutch',\n",
    " 11: 'English',\n",
    " 12: 'Esperanto',\n",
    " 13: 'Estonian',\n",
    " 14: 'French',\n",
    " 15: 'Frisian',\n",
    " 16: 'Georgian',\n",
    " 17: 'German',\n",
    " 18: 'Greek',\n",
    " 19: 'Hakha_Chin',\n",
    " 20: 'Indonesian',\n",
    " 21: 'Interlingua',\n",
    " 22: 'Italian',\n",
    " 23: 'Japanese',\n",
    " 24: 'Kabyle',\n",
    " 25: 'Kinyarwanda',\n",
    " 26: 'Kyrgyz',\n",
    " 27: 'Latvian',\n",
    " 28: 'Maltese',\n",
    " 29: 'Mongolian',\n",
    " 30: 'Persian',\n",
    " 31: 'Polish',\n",
    " 32: 'Portuguese',\n",
    " 33: 'Romanian',\n",
    " 34: 'Romansh_Sursilvan',\n",
    " 35: 'Russian',\n",
    " 36: 'Sakha',\n",
    " 37: 'Slovenian',\n",
    " 38: 'Spanish',\n",
    " 39: 'Swedish',\n",
    " 40: 'Tamil',\n",
    " 41: 'Tatar',\n",
    " 42: 'Turkish',\n",
    " 43: 'Ukranian',\n",
    " 44: 'Welsh'}"
   ]
  },
  {
   "cell_type": "code",
   "execution_count": 19,
   "id": "c42b16f9",
   "metadata": {},
   "outputs": [],
   "source": [
    "#Both model and tokenizer from locally saved repo. have been called.\n",
    "model = AutoModelForSequenceClassification.from_pretrained(\"C:/Users/Deepak/Desktop/Trained_Models/JB2K-Model\")\n",
    "tokenizer = AutoTokenizer.from_pretrained(\"C:/Users/Deepak/Desktop/Trained_Models/JB2K-Model\")"
   ]
  },
  {
   "cell_type": "code",
   "execution_count": 20,
   "id": "aa0de783",
   "metadata": {},
   "outputs": [],
   "source": [
    "# Defining a function that passes all tokens to identify the language.\n",
    "def inference(sentence):\n",
    "  tokenized_sentence = tokenizer(sentence, return_tensors='pt')\n",
    "  output = model(**tokenized_sentence)\n",
    "  predictions = torch.nn.functional.softmax(output.logits, dim=-1)\n",
    "  certainy, highest_value = torch.max(predictions, dim=-1, keepdim=False,  out=None)\n",
    "  highest_value_int = highest_value.item()\n",
    "  language = language_dict[highest_value_int]\n",
    "  return language"
   ]
  },
  {
   "cell_type": "markdown",
   "id": "4c399b39",
   "metadata": {},
   "source": [
    "# <center> English"
   ]
  },
  {
   "cell_type": "code",
   "execution_count": 21,
   "id": "604bf9ed",
   "metadata": {},
   "outputs": [
    {
     "data": {
      "text/plain": [
       "'English'"
      ]
     },
     "execution_count": 21,
     "metadata": {},
     "output_type": "execute_result"
    }
   ],
   "source": [
    "inference('I am a coffee lover and I drink coffee manytimes a day.')"
   ]
  },
  {
   "cell_type": "markdown",
   "id": "8f9c421d",
   "metadata": {},
   "source": [
    "# <center> French"
   ]
  },
  {
   "cell_type": "code",
   "execution_count": 22,
   "id": "79112185",
   "metadata": {},
   "outputs": [
    {
     "data": {
      "text/plain": [
       "'French'"
      ]
     },
     "execution_count": 22,
     "metadata": {},
     "output_type": "execute_result"
    }
   ],
   "source": [
    "inference('Je suis un amateur de café et je bois du café plusieurs fois par jour.')"
   ]
  },
  {
   "cell_type": "markdown",
   "id": "cb463070",
   "metadata": {},
   "source": [
    "# <center> Arabic"
   ]
  },
  {
   "cell_type": "code",
   "execution_count": 23,
   "id": "b43f590b",
   "metadata": {},
   "outputs": [
    {
     "data": {
      "text/plain": [
       "'Arabic'"
      ]
     },
     "execution_count": 23,
     "metadata": {},
     "output_type": "execute_result"
    }
   ],
   "source": [
    "inference(\"أنا من محبي القهوة وأشرب القهوة عدة مرات في اليوم.\")"
   ]
  },
  {
   "cell_type": "markdown",
   "id": "17f8fa2c",
   "metadata": {},
   "source": [
    "# <center> Russian"
   ]
  },
  {
   "cell_type": "code",
   "execution_count": 24,
   "id": "921df24a",
   "metadata": {},
   "outputs": [
    {
     "data": {
      "text/plain": [
       "'Russian'"
      ]
     },
     "execution_count": 24,
     "metadata": {},
     "output_type": "execute_result"
    }
   ],
   "source": [
    "inference('Я кофеман и пью кофе много раз в день.')"
   ]
  },
  {
   "cell_type": "markdown",
   "id": "90463893",
   "metadata": {},
   "source": [
    "# <center> Ukrainian"
   ]
  },
  {
   "cell_type": "code",
   "execution_count": 25,
   "id": "34b7eadd",
   "metadata": {},
   "outputs": [
    {
     "data": {
      "text/plain": [
       "'Ukranian'"
      ]
     },
     "execution_count": 25,
     "metadata": {},
     "output_type": "execute_result"
    }
   ],
   "source": [
    "inference(\"Я любитель кави і п'ю каву багато разів на день.\")"
   ]
  },
  {
   "cell_type": "markdown",
   "id": "7144f431",
   "metadata": {},
   "source": [
    "# <center> Mandarin (Simplified Chinese)"
   ]
  },
  {
   "cell_type": "code",
   "execution_count": 26,
   "id": "5dd57144",
   "metadata": {},
   "outputs": [
    {
     "data": {
      "text/plain": [
       "'Chinese_China'"
      ]
     },
     "execution_count": 26,
     "metadata": {},
     "output_type": "execute_result"
    }
   ],
   "source": [
    "inference(\"我是一个咖啡爱好者，每天都会喝很多次咖啡\")"
   ]
  },
  {
   "cell_type": "markdown",
   "id": "14c29490",
   "metadata": {},
   "source": [
    "# <center> Polish"
   ]
  },
  {
   "cell_type": "code",
   "execution_count": 15,
   "id": "c11e3b0c",
   "metadata": {},
   "outputs": [
    {
     "data": {
      "text/plain": [
       "'Polish'"
      ]
     },
     "execution_count": 15,
     "metadata": {},
     "output_type": "execute_result"
    }
   ],
   "source": [
    "inference(\"Jestem miłośnikiem kawy i piję kawę wiele razy dziennie.\")"
   ]
  },
  {
   "cell_type": "markdown",
   "id": "b70dc0be",
   "metadata": {},
   "source": [
    "# <center> Latvian"
   ]
  },
  {
   "cell_type": "code",
   "execution_count": 16,
   "id": "c59cf1ff",
   "metadata": {},
   "outputs": [
    {
     "data": {
      "text/plain": [
       "'Latvian'"
      ]
     },
     "execution_count": 16,
     "metadata": {},
     "output_type": "execute_result"
    }
   ],
   "source": [
    "inference(\"Esmu kafijas cienītājs un dzeru kafiju daudzas reizes dienā.\")"
   ]
  },
  {
   "cell_type": "markdown",
   "id": "b1e0a287",
   "metadata": {},
   "source": [
    "# <center> Estonian"
   ]
  },
  {
   "cell_type": "code",
   "execution_count": 17,
   "id": "0bc2b4c6",
   "metadata": {},
   "outputs": [
    {
     "data": {
      "text/plain": [
       "'Estonian'"
      ]
     },
     "execution_count": 17,
     "metadata": {},
     "output_type": "execute_result"
    }
   ],
   "source": [
    "inference(\"Olen kohvisõber ja joon kohvi mitu korda päevas.\")"
   ]
  },
  {
   "cell_type": "markdown",
   "id": "e0aecd5b",
   "metadata": {},
   "source": [
    "# <center> Lithuanian"
   ]
  },
  {
   "cell_type": "code",
   "execution_count": 18,
   "id": "777c9811",
   "metadata": {},
   "outputs": [
    {
     "data": {
      "text/plain": [
       "'Latvian'"
      ]
     },
     "execution_count": 18,
     "metadata": {},
     "output_type": "execute_result"
    }
   ],
   "source": [
    "inference(\"Esu kavos mėgėjas ir geriu kavą daug kartų per dieną.\")"
   ]
  },
  {
   "cell_type": "markdown",
   "id": "08064b6f",
   "metadata": {},
   "source": [
    "# Conclusion:\n",
    "It misclassified Lithuanian as Latvian"
   ]
  },
  {
   "cell_type": "code",
   "execution_count": null,
   "id": "1178b5fe",
   "metadata": {},
   "outputs": [],
   "source": [
    "import json"
   ]
  }
 ],
 "metadata": {
  "kernelspec": {
   "display_name": "Python 3 (ipykernel)",
   "language": "python",
   "name": "python3"
  },
  "language_info": {
   "codemirror_mode": {
    "name": "ipython",
    "version": 3
   },
   "file_extension": ".py",
   "mimetype": "text/x-python",
   "name": "python",
   "nbconvert_exporter": "python",
   "pygments_lexer": "ipython3",
   "version": "3.10.10"
  }
 },
 "nbformat": 4,
 "nbformat_minor": 5
}
